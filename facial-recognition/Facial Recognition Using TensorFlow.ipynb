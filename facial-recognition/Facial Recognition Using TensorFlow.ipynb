{
 "cells": [
  {
   "cell_type": "code",
   "execution_count": 5,
   "metadata": {},
   "outputs": [],
   "source": [
    "import os \n",
    "'''\n",
    "The OS module in Python provides a way of using operating system dependent functionality. \n",
    "The functions that the OS module provides allows you to interface with the underlying operating \n",
    "system that Python is running on – be that Windows, Mac or Linux\n",
    "'''\n",
    "import numpy as np\n",
    "import random \n",
    "import tensorflow as tf\n",
    "from tensorflow.keras.preprocessing.image import ImageDataGenerator\n",
    "\n",
    "import matplotlib.pyplot as plt\n",
    "import matplotlib.image as mpimg"
   ]
  },
  {
   "cell_type": "code",
   "execution_count": null,
   "metadata": {},
   "outputs": [],
   "source": [
    "#setting up names of the directories for both users \n",
    "base_dir = 'DatalfwTwoPeople'\n",
    "seta = 'George_W_Bush'\n",
    "setb = 'Colin_Powell'\n",
    "\n",
    "#Each dir has sub directory Train, validate and test\n",
    "train_dir = os.path.join(base_dir, 'train')\n",
    "validation_dir = os.path.join(base_dir, 'validation')\n",
    "test_dir = os.path.join(base_dir, 'test')\n"
   ]
  }
 ],
 "metadata": {
  "kernelspec": {
   "display_name": "Python 3",
   "language": "python",
   "name": "python3"
  },
  "language_info": {
   "codemirror_mode": {
    "name": "ipython",
    "version": 3
   },
   "file_extension": ".py",
   "mimetype": "text/x-python",
   "name": "python",
   "nbconvert_exporter": "python",
   "pygments_lexer": "ipython3",
   "version": "3.7.4"
  }
 },
 "nbformat": 4,
 "nbformat_minor": 4
}
